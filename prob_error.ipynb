{
 "cells": [
  {
   "cell_type": "code",
   "execution_count": 3,
   "id": "accomplished-anchor",
   "metadata": {},
   "outputs": [],
   "source": [
    "%matplotlib inline\n",
    "\n",
    "from numpy import arange,zeros,mean\n",
    "import matplotlib.pyplot as plt\n",
    "import networkx as nx\n",
    "import pickle\n",
    "#import random\n",
    "#from math import floor, ceil\n",
    "\n",
    "# Importing standard Qiskit libraries\n",
    "from qiskit import QuantumCircuit, Aer, execute\n",
    "#from qiskit.compiler import transpile, assemble\n",
    "from qiskit.tools.jupyter import *"
   ]
  },
  {
   "cell_type": "markdown",
   "id": "59d3d4f6",
   "metadata": {},
   "source": [
    "### We first define functions for creating graphs"
   ]
  },
  {
   "cell_type": "code",
   "execution_count": 2,
   "id": "fourth-cache",
   "metadata": {},
   "outputs": [],
   "source": [
    "def create_graph_regular(n,d,seed=0):\n",
    "    G = nx.random_regular_graph(d,n,seed=seed)\n",
    "    return G\n",
    "\n",
    "def create_graph_erdos(n,p,seed=0):\n",
    "    G = nx.erdos_renyi_graph(n,p,seed=seed)\n",
    "    return G\n",
    "\n",
    "def create_graph_complete(n):\n",
    "    G = nx.complete_graph(n)\n",
    "    return G"
   ]
  },
  {
   "cell_type": "markdown",
   "id": "a7e9f6c3",
   "metadata": {},
   "source": [
    "### Now we create the different ansatz - the traditional QAOA, and the proposed edge coloring and dfs based ansatz"
   ]
  },
  {
   "cell_type": "markdown",
   "id": "21f4e433",
   "metadata": {},
   "source": [
    "The logic behind finding the error probability is:\n",
    "\n",
    "1) Ideally, in the absence of noise if we start from the state $\\psi = |0>^{\\otimes n}$, and operate some unitary $U$, and its inverse $U^{\\dagger}$, then we get the outcome $|0>^{\\otimes n}$ with probability 1.\n",
    "\n",
    "2) However, in the presence of noise, starting with the state $\\psi = |0>^{\\otimes n}$ and operating $U$ and $U^{\\dagger}$ sequentially is most likely not going to return the state $\\psi$ with probability 1. Instead, we end up with some state $\\propto \\psi_e$, where $\\psi_e$ is the superposition of $\\psi$, as well as other states created due to error. The probability of no error is, then, defined as $|<\\psi|\\psi_e>|^2$.\n",
    "\n",
    "Now, when we execute $UU^{\\dagger}$, we are increasing the depth, number of CNOT gates, as well as the savings in CNOT gate by a factor of 2. Therefore, we find the probability of no error in the code, we divide $|<\\psi|\\psi_e>|^2$ by 2 and report the value."
   ]
  },
  {
   "cell_type": "markdown",
   "id": "da53bd84",
   "metadata": {},
   "source": [
    "In each of the ansatz henceforth, we first operate the gate operations for the ansatz, and then operate the adjoint of it (i.e., undo everything).\n",
    "\n",
    "The traditional QAOA ansatz is, from a birds eye view, composed of three sections: the operator $H^{\\otimes n}$ that creates the equal superposition, the operator $exp(-i\\gamma H_P)$ corresponding to the cost Hamiltonian, and finally the operator $exp(-i \\beta H_C)$ corresponding to the mixer Hamiltonian. However, the optimization proposed in the paper optimizes the circuit for cost Hamiltonian only. Furthermore, since we are only interested in finding $|<\\psi|\\psi_e>|^2$, we have ignored the mixer Hamiltonian portion in the code. This is acceptable, since both in the original, and the proposed ansatz, the mixer Hamiltonian remains unchanged, both will equally suffer for this portion of the circuit. Therefore, we ignore this portion in the code.\n",
    "\n",
    "#### First we create the traditional QAOA ansatz"
   ]
  },
  {
   "cell_type": "code",
   "execution_count": 3,
   "id": "distinct-sperm",
   "metadata": {},
   "outputs": [],
   "source": [
    "def qaoa_ansatz(qc,G,gamma):\n",
    "    n = len(G.nodes)\n",
    "    \n",
    "    for i in G.nodes:\n",
    "        qc.h(i)\n",
    "    \n",
    "    for edge in G.edges:\n",
    "        qc.cx(edge[0],edge[1])\n",
    "        qc.rz(gamma,edge[1])\n",
    "        qc.cx(edge[0],edge[1])\n",
    "    \n",
    "    qc.barrier()\n",
    "    \n",
    "    # Now undoing everything\n",
    "    for edge in reversed(list(G.edges)):\n",
    "        qc.cx(edge[0],edge[1])\n",
    "        qc.rz(-1*gamma,edge[1])\n",
    "        qc.cx(edge[0],edge[1])\n",
    "    \n",
    "    for i in G.nodes:\n",
    "        qc.h(i)\n",
    "    \n",
    "    qc.measure_all()"
   ]
  },
  {
   "cell_type": "markdown",
   "id": "b6058f30",
   "metadata": {},
   "source": [
    "#### Now we create the optimized ansatz based on Edge Coloring Technique"
   ]
  },
  {
   "cell_type": "code",
   "execution_count": 4,
   "id": "relative-fighter",
   "metadata": {},
   "outputs": [],
   "source": [
    "def edge_col(edges):\n",
    "    col_dict = {}\n",
    "    used = {}\n",
    "    \n",
    "    c = 1\n",
    "    col_dict['col'+str(c)] = []\n",
    "    used['col'+str(c)] = []\n",
    "    \n",
    "    for e in edges:\n",
    "        opted = False\n",
    "        colors = col_dict.keys()\n",
    "        for col in colors:\n",
    "            if e[0] in used[col] or e[1] in used[col]:\n",
    "                continue\n",
    "            else:\n",
    "                col_dict[col].append(e)\n",
    "                used[col].append(e[0])\n",
    "                used[col].append(e[1])\n",
    "                opted = True\n",
    "        if not opted:\n",
    "            c = c+1\n",
    "            new_col = 'col'+str(c)\n",
    "            col_dict[new_col] = []\n",
    "            col_dict[new_col].append(e)\n",
    "            used[new_col] = []\n",
    "            used[new_col].append(e[0])\n",
    "            used[new_col].append(e[1])\n",
    "    \n",
    "    return col_dict"
   ]
  },
  {
   "cell_type": "code",
   "execution_count": 5,
   "id": "reflected-copper",
   "metadata": {},
   "outputs": [],
   "source": [
    "def get_parallel_edges(G):\n",
    "    col = []\n",
    "    used = []\n",
    "    \n",
    "    for edge in G.edges:\n",
    "        if edge[0] not in used and edge[1] not in used:\n",
    "            col.append(edge)\n",
    "            used.append(edge[0])\n",
    "            used.append(edge[1])\n",
    "    \n",
    "    return col"
   ]
  },
  {
   "cell_type": "code",
   "execution_count": 6,
   "id": "liable-college",
   "metadata": {},
   "outputs": [],
   "source": [
    "def col_ansatz(qc,G,gamma):\n",
    "    n = len(G.nodes)\n",
    "    \n",
    "    opt_edges = get_parallel_edges(G)\n",
    "    noopt_edges = []\n",
    "    \n",
    "    for edge in G.edges:\n",
    "        if (edge[0],edge[1]) not in opt_edges and (edge[1],edge[0]) not in opt_edges:\n",
    "            noopt_edges.append(edge)\n",
    "    \n",
    "    #print(opt_edges)\n",
    "    #print(noopt_edges)\n",
    "    \n",
    "    for i in G.nodes:\n",
    "        qc.h(i)\n",
    "    \n",
    "    #optimized edges\n",
    "    for edge in opt_edges:\n",
    "        qc.rz(gamma,edge[1])\n",
    "        qc.cx(edge[0],edge[1])\n",
    "    \n",
    "    qc.barrier()\n",
    "    \n",
    "    #remaining edges\n",
    "    for edge in noopt_edges:\n",
    "        qc.cx(edge[0],edge[1])\n",
    "        qc.rz(gamma,edge[1])\n",
    "        qc.cx(edge[0],edge[1])\n",
    "    \n",
    "    \n",
    "    qc.barrier()\n",
    "    \n",
    "    # Now undoing everything\n",
    "    for edge in reversed(noopt_edges):\n",
    "        qc.cx(edge[0],edge[1])\n",
    "        qc.rz(-1*gamma,edge[1])\n",
    "        qc.cx(edge[0],edge[1])\n",
    "    \n",
    "    qc.barrier()\n",
    "    \n",
    "    for edge in reversed(opt_edges):\n",
    "        qc.cx(edge[0],edge[1])\n",
    "        qc.rz(-1*gamma,edge[1])\n",
    "    \n",
    "    for i in G.nodes:\n",
    "        qc.h(i)\n",
    "    \n",
    "    qc.measure_all()"
   ]
  },
  {
   "cell_type": "markdown",
   "id": "0c6a5c22",
   "metadata": {},
   "source": [
    "#### Now we create the optimized ansatz based on DFS technique"
   ]
  },
  {
   "cell_type": "code",
   "execution_count": 7,
   "id": "valued-painting",
   "metadata": {},
   "outputs": [],
   "source": [
    "def get_opt_edges(G):\n",
    "    visited = []\n",
    "    to_opt = []\n",
    "    \n",
    "    for edges in list(nx.dfs_edges(G,0)):\n",
    "        if edges[0] not in visited and edges[1] not in visited:\n",
    "            to_opt.append(edges)\n",
    "            visited.append(edges[0])\n",
    "            visited.append(edges[1])\n",
    "        if edges[0] in visited and edges[1] not in visited:\n",
    "            to_opt.append(edges)\n",
    "            visited.append(edges[1])\n",
    "    \n",
    "    return to_opt"
   ]
  },
  {
   "cell_type": "code",
   "execution_count": 8,
   "id": "normal-sugar",
   "metadata": {},
   "outputs": [],
   "source": [
    "def dfs_ansatz(qc,G,gamma):\n",
    "    n = len(G.nodes)\n",
    "    \n",
    "    opt_edges = get_opt_edges(G)\n",
    "    \n",
    "    noopt_edges = []\n",
    "    \n",
    "    for edge in G.edges:\n",
    "        if (edge[0],edge[1]) not in opt_edges and (edge[1],edge[0]) not in opt_edges:\n",
    "            noopt_edges.append(edge)\n",
    "    \n",
    "    no_opt_order = edge_col(noopt_edges)\n",
    "    \n",
    "    for i in G.nodes:\n",
    "        qc.h(i)\n",
    "    \n",
    "    #optimized edges\n",
    "    for edge in opt_edges:\n",
    "        qc.rz(gamma,edge[1])\n",
    "        qc.cx(edge[0],edge[1])\n",
    "    \n",
    "    qc.barrier()\n",
    "    \n",
    "    #non-optimized edges\n",
    "    \n",
    "    for color in no_opt_order:\n",
    "        for edge in no_opt_order[color]:\n",
    "            qc.cx(edge[0],edge[1])\n",
    "            qc.rz(gamma,edge[1])\n",
    "            qc.cx(edge[0],edge[1])\n",
    "    \n",
    "    qc.barrier()\n",
    "    \n",
    "    # Now undoing everything\n",
    "    for color in reversed(no_opt_order):\n",
    "        for edge in no_opt_order[color]:\n",
    "            qc.cx(edge[0],edge[1])\n",
    "            qc.rz(-1*gamma,edge[1])\n",
    "            qc.cx(edge[0],edge[1])\n",
    "    \n",
    "    qc.barrier()\n",
    "    \n",
    "    for edge in reversed(opt_edges):\n",
    "        qc.cx(edge[0],edge[1])\n",
    "        qc.rz(-1*gamma,edge[1])\n",
    "    \n",
    "    for i in G.nodes:\n",
    "        qc.h(i)\n",
    "    \n",
    "    qc.measure_all()"
   ]
  },
  {
   "cell_type": "markdown",
   "id": "6b28af49",
   "metadata": {},
   "source": [
    "#### Now we load the noise model from Manhattan Device. This noise model is available in the backend information of the qiskit devices as a json file. We have created a pickle file to avoid json parser, but one can use json file as well."
   ]
  },
  {
   "cell_type": "code",
   "execution_count": 9,
   "id": "inappropriate-commonwealth",
   "metadata": {},
   "outputs": [],
   "source": [
    "make_noise = pickle.load(open('noise_model_FakeManhattan.pkl','rb'))"
   ]
  },
  {
   "cell_type": "markdown",
   "id": "6337087f",
   "metadata": {},
   "source": [
    "Now some general definition of array, range of nodes etc."
   ]
  },
  {
   "cell_type": "code",
   "execution_count": 10,
   "id": "advisory-dependence",
   "metadata": {},
   "outputs": [],
   "source": [
    "num_vertices = arange(4,13,1)\n",
    "\n",
    "coloring_scheme = []\n",
    "dfs_scheme = []\n",
    "qaoa_scheme = []\n",
    "\n",
    "trials = 20\n",
    "shots = 8192\n",
    "\n",
    "gamma = 0.57"
   ]
  },
  {
   "cell_type": "markdown",
   "id": "9381b161",
   "metadata": {},
   "source": [
    "Here we determine the probability of error for each of the three ansatz design technique. Then we find the probability of no error, which is 1 - probability of error. It is not necessary to do this in two steps. One can, simply, calculate the probability of no error only."
   ]
  },
  {
   "cell_type": "code",
   "execution_count": null,
   "id": "european-transportation",
   "metadata": {},
   "outputs": [
    {
     "name": "stdout",
     "output_type": "stream",
     "text": [
      "Completed num_vertex:  4\n",
      "Completed num_vertex:  5\n",
      "Completed num_vertex:  6\n",
      "Completed num_vertex:  7\n",
      "Completed num_vertex:  8\n",
      "Completed num_vertex:  9\n",
      "Completed num_vertex:  10\n",
      "Completed num_vertex:  11\n",
      "Completed num_vertex:  12\n",
      "Completed num_vertex:  13\n",
      "Completed num_vertex:  14\n",
      "Completed num_vertex:  15\n"
     ]
    }
   ],
   "source": [
    "for n in num_vertices:\n",
    "    G = create_graph_complete(n)\n",
    "    temp_col = 0\n",
    "    temp_dfs = 0\n",
    "    temp_qaoa = 0\n",
    "    \n",
    "    for i in range(trials):\n",
    "        qc_col = QuantumCircuit(n)\n",
    "        col_ansatz(qc_col,G,gamma)\n",
    "        \n",
    "        count_col = execute(qc_col,backend=Aer.get_backend('qasm_simulator'),shots=shots,noise_model=make_noise).result().get_counts()\n",
    "        temp_col += 0.5*(1 - float(count_col['0'*n]/shots))\n",
    "        #n_col += float(temp_col/trials)\n",
    "    coloring_scheme.append(float(temp_col/trials))\n",
    "    \n",
    "    # Now the dfs scheme\n",
    "    for i in range(trials):\n",
    "        qc_dfs = QuantumCircuit(n)\n",
    "        dfs_ansatz(qc_dfs,G,gamma)\n",
    "        \n",
    "        count_dfs = execute(qc_dfs,backend=Aer.get_backend('qasm_simulator'),shots=shots,noise_model=make_noise).result().get_counts()\n",
    "        temp_dfs += 0.5*(1 - float(count_dfs['0'*n]/shots))\n",
    "        #n_dfs += float(temp_dfs/trials)\n",
    "    dfs_scheme.append(float(temp_dfs/trials))\n",
    "        \n",
    "    # Now for the unoptimized scheme\n",
    "    for i in range(trials):\n",
    "        qc_qaoa = QuantumCircuit(n)\n",
    "        qaoa_ansatz(qc_qaoa,G,gamma)\n",
    "        \n",
    "        count_qaoa = execute(qc_qaoa,backend=Aer.get_backend('qasm_simulator'),shots=shots,noise_model=make_noise).result().get_counts()\n",
    "        temp_qaoa += 0.5*(1 - float(count_qaoa['0'*n]/shots))\n",
    "        #n_qaoa += float(temp_qaoa/trials)\n",
    "    qaoa_scheme.append(float(temp_qaoa/trials))\n",
    "    \n",
    "    print('Completed num_vertex: ',n)"
   ]
  },
  {
   "cell_type": "code",
   "execution_count": 12,
   "id": "obvious-decimal",
   "metadata": {},
   "outputs": [
    {
     "name": "stdout",
     "output_type": "stream",
     "text": [
      "[0.062127685546875, 0.089898681640625, 0.104229736328125, 0.124493408203125, 0.13251953125, 0.1561614990234375, 0.168475341796875, 0.1923309326171875, 0.210748291015625]\n",
      "[0.04879150390625, 0.062811279296875, 0.0786865234375, 0.089508056640625, 0.0990875244140625, 0.110418701171875, 0.1242462158203125, 0.1540557861328125, 0.176312255859375]\n",
      "[0.0839691162109375, 0.110064697265625, 0.1374481201171875, 0.1548919677734375, 0.1713470458984375, 0.193048095703125, 0.2181182861328125, 0.2370697021484375, 0.2538604736328125]\n"
     ]
    }
   ],
   "source": [
    "print(coloring_scheme)\n",
    "print(dfs_scheme)\n",
    "print(qaoa_scheme)"
   ]
  },
  {
   "cell_type": "code",
   "execution_count": 1,
   "id": "918dc174",
   "metadata": {},
   "outputs": [
    {
     "name": "stdout",
     "output_type": "stream",
     "text": [
      "[0.937872314453125, 0.910101318359375, 0.895770263671875, 0.875506591796875, 0.86748046875, 0.8438385009765625, 0.831524658203125, 0.8076690673828125, 0.789251708984375]\n",
      "[0.95120849609375, 0.937188720703125, 0.9213134765625, 0.910491943359375, 0.9009124755859375, 0.889581298828125, 0.8757537841796875, 0.8459442138671875, 0.823687744140625]\n",
      "[0.9160308837890625, 0.889935302734375, 0.8625518798828125, 0.8451080322265625, 0.8286529541015625, 0.806951904296875, 0.7818817138671875, 0.7629302978515625, 0.7461395263671875]\n"
     ]
    }
   ],
   "source": [
    "for i in range(len(coloring_scheme)):\n",
    "    coloring_scheme[i] = 1 - coloring_scheme[i]\n",
    "    dfs_scheme[i] = 1 - dfs_scheme[i]\n",
    "    qaoa_scheme[i] = 1 - qaoa_scheme[i]\n",
    "\n",
    "print(coloring_scheme)\n",
    "print(dfs_scheme)\n",
    "print(qaoa_scheme)"
   ]
  },
  {
   "cell_type": "code",
   "execution_count": 5,
   "id": "controversial-pizza",
   "metadata": {},
   "outputs": [
    {
     "data": {
      "image/png": "[encoded data removed]",
      "text/plain": [
       "<Figure size 864x720 with 1 Axes>"
      ]
     },
     "metadata": {
      "needs_background": "light"
     },
     "output_type": "display_data"
    }
   ],
   "source": [
    "num_vertices = arange(4,13,1)\n",
    "\n",
    "plt.figure(figsize=[12,10])\n",
    "plt.plot(num_vertices,coloring_scheme,'bo--',label='Edge coloring technique')\n",
    "plt.plot(num_vertices,dfs_scheme,'ro--',label='DFS technique')\n",
    "plt.plot(num_vertices,qaoa_scheme,'go--',label='Traditional QAOA ansatz')\n",
    "plt.xlabel('Number of vertices')\n",
    "plt.ylabel('$|<\\psi|\\psi_e>|^2$')\n",
    "#plt.title('Probability of error for complete graph and Manhattan noise model')\n",
    "plt.grid()\n",
    "plt.legend()\n",
    "plt.show()"
   ]
  },
  {
   "cell_type": "code",
   "execution_count": null,
   "id": "4eb1a096",
   "metadata": {},
   "outputs": [],
   "source": []
  }
 ],
 "metadata": {
  "kernelspec": {
   "display_name": "Python 3",
   "language": "python",
   "name": "python3"
  },
  "language_info": {
   "codemirror_mode": {
    "name": "ipython",
    "version": 3
   },
   "file_extension": ".py",
   "mimetype": "text/x-python",
   "name": "python",
   "nbconvert_exporter": "python",
   "pygments_lexer": "ipython3",
   "version": "3.8.8"
  }
 },
 "nbformat": 4,
 "nbformat_minor": 5
}
