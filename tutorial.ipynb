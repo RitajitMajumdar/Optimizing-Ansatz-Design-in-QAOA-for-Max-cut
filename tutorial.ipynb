{
 "cells": [
  {
   "cell_type": "code",
   "execution_count": 1,
   "id": "09c2baf1-81a7-455f-8658-e0d61929260b",
   "metadata": {},
   "outputs": [],
   "source": [
    "from qiskit import *\n",
    "import networkx as nx\n",
    "from edge_coloring import EdgeColoring\n",
    "from dfs import DFS\n",
    "from heuristic import Heuristic"
   ]
  },
  {
   "cell_type": "code",
   "execution_count": 2,
   "id": "07170f14-54a5-49ca-bbda-e77857e91de8",
   "metadata": {},
   "outputs": [
    {
     "data": {
      "image/png": "[encoded data removed]",
      "text/plain": [
       "<Figure size 432x288 with 1 Axes>"
      ]
     },
     "metadata": {},
     "output_type": "display_data"
    }
   ],
   "source": [
    "G = nx.erdos_renyi_graph(6,0.6)\n",
    "nx.draw(G)"
   ]
  },
  {
   "cell_type": "code",
   "execution_count": 3,
   "id": "693b6eb9-15fe-4c19-9745-4c98faa06969",
   "metadata": {},
   "outputs": [
    {
     "name": "stdout",
     "output_type": "stream",
     "text": [
      "        ┌───┐                                                                                                                                            ░ ┌─┐               \n",
      "   q_0: ┤ H ├──────────────■────■────────────────────────────■───────────────────────────────────────────────────────────────────────────────────────────░─┤M├───────────────\n",
      "        ├───┤┌──────────┐┌─┴─┐  │                            │                                                                                           ░ └╥┘┌─┐            \n",
      "   q_1: ┤ H ├┤ Rz(0.57) ├┤ X ├──┼───────■────────────────────┼────■────■────────────────────────────■────────────────────────────────────────────────────░──╫─┤M├────────────\n",
      "        ├───┤└──────────┘└───┘  │       │                    │    │    │                            │                                                    ░  ║ └╥┘┌─┐         \n",
      "   q_2: ┤ H ├──────────────■────┼───────┼────────────────────┼────┼────┼───────■────────────────────┼────■───────────────────────────────────────────────░──╫──╫─┤M├─────────\n",
      "        ├───┤┌──────────┐┌─┴─┐  │     ┌─┴─┐    ┌──────────┐  │  ┌─┴─┐  │     ┌─┴─┐    ┌──────────┐  │  ┌─┴─┐                                             ░  ║  ║ └╥┘┌─┐      \n",
      "   q_3: ┤ H ├┤ Rz(0.57) ├┤ X ├──┼─────┤ X ├────┤ Rz(0.57) ├──┼──┤ X ├──┼─────┤ X ├────┤ Rz(0.57) ├──┼──┤ X ├──■────────────────■────■────────────────■───░──╫──╫──╫─┤M├──────\n",
      "        ├───┤└──────────┘└───┘  │     └───┘    └──────────┘  │  └───┘┌─┴─┐┌──┴───┴───┐└──────────┘┌─┴─┐└───┘┌─┴─┐┌──────────┐┌─┴─┐  │                │   ░  ║  ║  ║ └╥┘┌─┐   \n",
      "   q_4: ┤ H ├───────────────────┼────────────────────────────┼───────┤ X ├┤ Rz(0.57) ├────────────┤ X ├─────┤ X ├┤ Rz(0.57) ├┤ X ├──┼────────────────┼───░──╫──╫──╫──╫─┤M├───\n",
      "        ├───┤                 ┌─┴─┐┌──────────┐            ┌─┴─┐     └───┘└──────────┘            └───┘     └───┘└──────────┘└───┘┌─┴─┐┌──────────┐┌─┴─┐ ░  ║  ║  ║  ║ └╥┘┌─┐\n",
      "   q_5: ┤ H ├─────────────────┤ X ├┤ Rz(0.57) ├────────────┤ X ├──────────────────────────────────────────────────────────────────┤ X ├┤ Rz(0.57) ├┤ X ├─░──╫──╫──╫──╫──╫─┤M├\n",
      "        └───┘                 └───┘└──────────┘            └───┘                                                                  └───┘└──────────┘└───┘ ░  ║  ║  ║  ║  ║ └╥┘\n",
      "meas: 6/════════════════════════════════════════════════════════════════════════════════════════════════════════════════════════════════════════════════════╩══╩══╩══╩══╩══╩═\n",
      "                                                                                                                                                            0  1  2  3  4  5 \n",
      "Depth of the circuit:  16\n"
     ]
    }
   ],
   "source": [
    "obj = EdgeColoring(G,0.57)\n",
    "qc = obj.ec_ansatz(undo_gates=False)\n",
    "print(qc.draw(fold=-1))\n",
    "print(\"Depth of the circuit: \",qc.depth())"
   ]
  },
  {
   "cell_type": "code",
   "execution_count": 4,
   "id": "a9855304-3eee-4422-b076-27e32d3065ee",
   "metadata": {},
   "outputs": [
    {
     "name": "stdout",
     "output_type": "stream",
     "text": [
      "        ┌───┐┌──────────┐┌───┐                                                                 ░ ┌─┐               \n",
      "   q_0: ┤ H ├┤ Rz(0.57) ├┤ X ├──■──────────────────────────────────────────────────────────────░─┤M├───────────────\n",
      "        ├───┤└──────────┘└─┬─┘  │                                                              ░ └╥┘┌─┐            \n",
      "   q_1: ┤ H ├──────────────■────┼───────────────────■────────────────■────■────────────────■───░──╫─┤M├────────────\n",
      "        ├───┤┌──────────┐       │       ┌───┐       │                │    │                │   ░  ║ └╥┘┌─┐         \n",
      "   q_2: ┤ H ├┤ Rz(0.57) ├───────┼───────┤ X ├───────┼────────────────┼────┼────────────────┼───░──╫──╫─┤M├─────────\n",
      "        ├───┤├──────────┤       │  ┌───┐└─┬─┘     ┌─┴─┐┌──────────┐┌─┴─┐  │                │   ░  ║  ║ └╥┘┌─┐      \n",
      "   q_3: ┤ H ├┤ Rz(0.57) ├───────┼──┤ X ├──■────■──┤ X ├┤ Rz(0.57) ├┤ X ├──┼────────────────┼───░──╫──╫──╫─┤M├──────\n",
      "        ├───┤├──────────┤       │  └─┬─┘     ┌─┴─┐└───┘└──────────┘└───┘┌─┴─┐┌──────────┐┌─┴─┐ ░  ║  ║  ║ └╥┘┌─┐   \n",
      "   q_4: ┤ H ├┤ Rz(0.57) ├───────┼────┼───────┤ X ├──────────────────────┤ X ├┤ Rz(0.57) ├┤ X ├─░──╫──╫──╫──╫─┤M├───\n",
      "        ├───┤├──────────┤     ┌─┴─┐  │       └───┘                      └───┘└──────────┘└───┘ ░  ║  ║  ║  ║ └╥┘┌─┐\n",
      "   q_5: ┤ H ├┤ Rz(0.57) ├─────┤ X ├──■─────────────────────────────────────────────────────────░──╫──╫──╫──╫──╫─┤M├\n",
      "        └───┘└──────────┘     └───┘                                                            ░  ║  ║  ║  ║  ║ └╥┘\n",
      "meas: 6/══════════════════════════════════════════════════════════════════════════════════════════╩══╩══╩══╩══╩══╩═\n",
      "                                                                                                  0  1  2  3  4  5 \n",
      "Depth of the circuit:  14\n"
     ]
    }
   ],
   "source": [
    "obj = DFS(G,0.57,1)\n",
    "qc = obj.dfs_ansatz(undo_gates=False)\n",
    "print(qc.draw(fold=-1))\n",
    "print(\"Depth of the circuit: \",qc.depth())"
   ]
  },
  {
   "cell_type": "code",
   "execution_count": 5,
   "id": "84dd94aa-58dc-41c4-a126-a1a092fe3da6",
   "metadata": {},
   "outputs": [
    {
     "name": "stdout",
     "output_type": "stream",
     "text": [
      "        ┌───┐┌──────────┐┌───┐                                                                 ░ ┌─┐               \n",
      "   q_0: ┤ H ├┤ Rz(0.57) ├┤ X ├───────■─────────────────────────────────────────────────────────░─┤M├───────────────\n",
      "        ├───┤└──────────┘└─┬─┘       │                                                         ░ └╥┘┌─┐            \n",
      "   q_1: ┤ H ├──────────────■────■────┼────■────────────────────────────────────────────────────░──╫─┤M├────────────\n",
      "        ├───┤┌──────────┐       │    │    │  ┌───┐                                             ░  ║ └╥┘┌─┐         \n",
      "   q_2: ┤ H ├┤ Rz(0.57) ├───────┼────┼────┼──┤ X ├─────────────────────────────────────────────░──╫──╫─┤M├─────────\n",
      "        ├───┤├──────────┤     ┌─┴─┐  │    │  └─┬─┘                                             ░  ║  ║ └╥┘┌─┐      \n",
      "   q_3: ┤ H ├┤ Rz(0.57) ├─────┤ X ├──┼────┼────■────■────────────────■────■────────────────■───░──╫──╫──╫─┤M├──────\n",
      "        ├───┤├──────────┤     └───┘  │  ┌─┴─┐     ┌─┴─┐┌──────────┐┌─┴─┐  │                │   ░  ║  ║  ║ └╥┘┌─┐   \n",
      "   q_4: ┤ H ├┤ Rz(0.57) ├────────────┼──┤ X ├─────┤ X ├┤ Rz(0.57) ├┤ X ├──┼────────────────┼───░──╫──╫──╫──╫─┤M├───\n",
      "        ├───┤├──────────┤          ┌─┴─┐└───┘     └───┘└──────────┘└───┘┌─┴─┐┌──────────┐┌─┴─┐ ░  ║  ║  ║  ║ └╥┘┌─┐\n",
      "   q_5: ┤ H ├┤ Rz(0.57) ├──────────┤ X ├────────────────────────────────┤ X ├┤ Rz(0.57) ├┤ X ├─░──╫──╫──╫──╫──╫─┤M├\n",
      "        └───┘└──────────┘          └───┘                                └───┘└──────────┘└───┘ ░  ║  ║  ║  ║  ║ └╥┘\n",
      "meas: 6/══════════════════════════════════════════════════════════════════════════════════════════╩══╩══╩══╩══╩══╩═\n",
      "                                                                                                  0  1  2  3  4  5 \n",
      "Depth of the circuit:  12\n"
     ]
    }
   ],
   "source": [
    "obj = Heuristic(G,0.57,1)\n",
    "qc = obj.heuristic_ansatz(undo_gates=False)\n",
    "print(qc.draw(fold=-1))\n",
    "print(\"Depth of the circuit: \",qc.depth())"
   ]
  },
  {
   "cell_type": "code",
   "execution_count": null,
   "id": "bebc4b3e-0ba7-4d60-9dc7-b3157b799478",
   "metadata": {},
   "outputs": [],
   "source": []
  }
 ],
 "metadata": {
  "kernelspec": {
   "display_name": "Ritajit",
   "language": "python",
   "name": "ritajit"
  },
  "language_info": {
   "codemirror_mode": {
    "name": "ipython",
    "version": 3
   },
   "file_extension": ".py",
   "mimetype": "text/x-python",
   "name": "python",
   "nbconvert_exporter": "python",
   "pygments_lexer": "ipython3",
   "version": "3.9.7"
  }
 },
 "nbformat": 4,
 "nbformat_minor": 5
}
